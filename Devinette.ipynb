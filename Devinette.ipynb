{
 "cells": [
  {
   "cell_type": "code",
   "execution_count": 2,
   "metadata": {},
   "outputs": [
    {
     "name": "stdout",
     "output_type": "stream",
     "text": [
      "Entrez un chiffre de 1 à 101\n",
      "perdu\n"
     ]
    }
   ],
   "source": [
    "import random\n",
    "chiffre_rand = random.randint(1,10)\n",
    "\n",
    "reponse = input(\"Entrez un chiffre de 1 à 10\")\n",
    "\n",
    "if reponse == chiffre_rand:\n",
    "    print(\"gagné\")\n",
    "else:\n",
    "    print(\"perdu\")"
   ]
  },
  {
   "cell_type": "code",
   "execution_count": null,
   "metadata": {},
   "outputs": [],
   "source": []
  }
 ],
 "metadata": {
  "kernelspec": {
   "display_name": "Python 3",
   "language": "python",
   "name": "python3"
  },
  "language_info": {
   "codemirror_mode": {
    "name": "ipython",
    "version": 3
   },
   "file_extension": ".py",
   "mimetype": "text/x-python",
   "name": "python",
   "nbconvert_exporter": "python",
   "pygments_lexer": "ipython3",
   "version": "3.6.5"
  }
 },
 "nbformat": 4,
 "nbformat_minor": 2
}
