{
 "cells": [
  {
   "cell_type": "code",
   "execution_count": null,
   "metadata": {},
   "outputs": [],
   "source": [
    "import random\n",
    "computer=random.randint(1,10)\n",
    "user=int(input (\"Insérer un chiffre de 1 à 10\"))\n",
    "if user < 1 or user > 10 :\n",
    "    print (\"Veuillez insérer un nombre entre 1 et 10 \")\n",
    "elif user == computer :\n",
    "    print(\"Bravo! Bonne réponse.\")\n",
    "else:\n",
    "    print(\"Dommage! Mauvaise réponse.\")\n",
    "    print (\"Le nombre choisie aléatoirement est le : {}\".format(computer))"
   ]
  },
  {
   "cell_type": "code",
   "execution_count": null,
   "metadata": {},
   "outputs": [],
   "source": []
  }
 ],
 "metadata": {
  "kernelspec": {
   "display_name": "Python 3",
   "language": "python",
   "name": "python3"
  },
  "language_info": {
   "codemirror_mode": {
    "name": "ipython",
    "version": 3
   },
   "file_extension": ".py",
   "mimetype": "text/x-python",
   "name": "python",
   "nbconvert_exporter": "python",
   "pygments_lexer": "ipython3",
   "version": "3.7.0"
  }
 },
 "nbformat": 4,
 "nbformat_minor": 2
}
